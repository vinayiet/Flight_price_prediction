{
 "cells": [
  {
   "cell_type": "code",
   "execution_count": null,
   "id": "b3ad94fc-9dfc-4a53-b7c0-27125eb8e99a",
   "metadata": {},
   "outputs": [],
   "source": []
  }
 ],
 "metadata": {
  "kernelspec": {
   "display_name": "",
   "name": ""
  },
  "language_info": {
   "name": ""
  }
 },
 "nbformat": 4,
 "nbformat_minor": 5
}
